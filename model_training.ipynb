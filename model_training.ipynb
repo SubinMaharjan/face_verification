{
 "cells": [
  {
   "cell_type": "code",
   "execution_count": 226,
   "metadata": {},
   "outputs": [],
   "source": [
    "import numpy as np\n",
    "from sklearn.manifold import TSNE\n",
    "import random\n",
    "\n",
    "from itertools import permutations\n",
    "import seaborn as sns\n",
    "from matplotlib import pyplot as plt\n",
    "import matplotlib.patheffects as PathEffects"
   ]
  },
  {
   "cell_type": "code",
   "execution_count": 227,
   "metadata": {},
   "outputs": [],
   "source": [
    "from keras.layers import Input, Conv2D, Lambda, Dense, Flatten,MaxPooling2D, concatenate\n",
    "from keras.models import Model, Sequential\n",
    "from keras.regularizers import l2\n",
    "from keras import backend as K\n",
    "from keras.optimizers import SGD,Adam\n",
    "from keras.losses import binary_crossentropy"
   ]
  },
  {
   "cell_type": "code",
   "execution_count": 228,
   "metadata": {},
   "outputs": [
    {
     "name": "stdout",
     "output_type": "stream",
     "text": [
      "Loaded:  (220, 128) (220,) (70, 128) (70,)\n"
     ]
    }
   ],
   "source": [
    "# load the face dataset\n",
    "data = np.load('14-celebrity-faces-embeddings.npz')\n",
    "trainX, trainy, testX, testy = data['arr_0'], data['arr_1'], data['arr_2'], data['arr_3']\n",
    "print('Loaded: ', trainX.shape, trainy.shape, testX.shape, testy.shape)"
   ]
  },
  {
   "cell_type": "code",
   "execution_count": 229,
   "metadata": {},
   "outputs": [
    {
     "name": "stdout",
     "output_type": "stream",
     "text": [
      "['anne_hathaway' 'anne_hathaway' 'anne_hathaway' 'anne_hathaway'\n",
      " 'anne_hathaway' 'anne_hathaway' 'arnold_schwarzenegger'\n",
      " 'arnold_schwarzenegger' 'arnold_schwarzenegger' 'arnold_schwarzenegger'\n",
      " 'arnold_schwarzenegger' 'ben_afflek' 'ben_afflek' 'ben_afflek'\n",
      " 'ben_afflek' 'ben_afflek' 'dwayne_johnson' 'dwayne_johnson'\n",
      " 'dwayne_johnson' 'dwayne_johnson' 'dwayne_johnson' 'elton_john'\n",
      " 'elton_john' 'elton_john' 'elton_john' 'elton_john' 'jerry_seinfeld'\n",
      " 'jerry_seinfeld' 'jerry_seinfeld' 'jerry_seinfeld' 'jerry_seinfeld'\n",
      " 'kate_beckinsale' 'kate_beckinsale' 'kate_beckinsale' 'kate_beckinsale'\n",
      " 'keanu_reeves' 'keanu_reeves' 'keanu_reeves' 'keanu_reeves'\n",
      " 'keanu_reeves' 'lauren_cohan' 'lauren_cohan' 'lauren_cohan'\n",
      " 'lauren_cohan' 'madonna' 'madonna' 'madonna' 'madonna' 'madonna'\n",
      " 'mindy_kaling' 'mindy_kaling' 'mindy_kaling' 'mindy_kaling'\n",
      " 'mindy_kaling' 'simon_pegg' 'simon_pegg' 'simon_pegg' 'simon_pegg'\n",
      " 'simon_pegg' 'sofia_vergara' 'sofia_vergara' 'sofia_vergara'\n",
      " 'sofia_vergara' 'sofia_vergara' 'sofia_vergara' 'will_smith' 'will_smith'\n",
      " 'will_smith' 'will_smith' 'will_smith']\n"
     ]
    }
   ],
   "source": [
    "print(testy)"
   ]
  },
  {
   "cell_type": "code",
   "execution_count": 230,
   "metadata": {},
   "outputs": [
    {
     "name": "stdout",
     "output_type": "stream",
     "text": [
      "{'anne_hathaway': 0, 'arnold_schwarzenegger': 1, 'ben_afflek': 2, 'dwayne_johnson': 3, 'elton_john': 4, 'jerry_seinfeld': 5, 'kate_beckinsale': 6, 'keanu_reeves': 7, 'lauren_cohan': 8, 'madonna': 9, 'mindy_kaling': 10, 'simon_pegg': 11, 'sofia_vergara': 12, 'will_smith': 13}\n",
      "[ 0  0  0  0  0  0  1  1  1  1  1  2  2  2  2  2  3  3  3  3  3  4  4  4\n",
      "  4  4  5  5  5  5  5  6  6  6  6  7  7  7  7  7  8  8  8  8  9  9  9  9\n",
      "  9 10 10 10 10 10 11 11 11 11 11 12 12 12 12 12 12 13 13 13 13 13]\n",
      "[ 0  0  0  0  0  0  0  0  0  0  0  0  0  0  0  1  1  1  1  1  1  1  1  1\n",
      "  1  1  1  1  1  1  1  1  1  2  2  2  2  2  2  2  2  2  2  2  2  2  2  3\n",
      "  3  3  3  3  3  3  3  3  3  3  3  3  3  3  4  4  4  4  4  4  4  4  4  4\n",
      "  4  4  4  4  4  4  4  5  5  5  5  5  5  5  5  5  5  5  5  5  5  5  5  5\n",
      "  5  5  5  5  6  6  6  6  6  6  6  6  6  6  6  7  7  7  7  7  7  7  7  7\n",
      "  7  7  8  8  8  8  8  8  8  8  8  8  9  9  9  9  9  9  9  9  9  9  9  9\n",
      "  9  9  9  9  9  9  9 10 10 10 10 10 10 10 10 10 10 10 10 10 10 10 10 10\n",
      " 10 10 10 10 10 11 11 11 11 11 11 11 11 11 11 11 11 11 11 12 12 12 12 12\n",
      " 12 12 12 12 12 12 12 12 12 12 12 12 13 13 13 13 13 13 13 13 13 13 13 13\n",
      " 13 13 13 13]\n"
     ]
    }
   ],
   "source": [
    "# converting textual labels into numeric labels\n",
    "name = np.unique(testy)\n",
    "map_name = {name[idx]: idx for idx in range(name.shape[0])}\n",
    "print(map_name)\n",
    "testy = np.array([map_name[testy[i]] for i in range(testy.shape[0])])\n",
    "print(testy)\n",
    "trainy = np.array([map_name[trainy[i]] for i in range(trainy.shape[0])])\n",
    "print(trainy)"
   ]
  },
  {
   "cell_type": "code",
   "execution_count": null,
   "metadata": {},
   "outputs": [],
   "source": []
  },
  {
   "cell_type": "code",
   "execution_count": 231,
   "metadata": {},
   "outputs": [],
   "source": [
    "# Define our own plot function\n",
    "def scatter(x, labels, subtitle=None):\n",
    "    # We choose a color palette with seaborn.\n",
    "    palette = np.array(sns.color_palette(\"hls\", 14))\n",
    "\n",
    "    # We create a scatter plot.\n",
    "    f = plt.figure(figsize=(8, 8))\n",
    "    ax = plt.subplot(aspect='equal')\n",
    "    sc = ax.scatter(x[:,0], x[:,1], lw=0, s=40,\n",
    "                    c=palette[labels])\n",
    "    plt.xlim(-25, 25)\n",
    "    plt.ylim(-25, 25)\n",
    "    ax.axis('off')\n",
    "    ax.axis('tight')\n",
    "\n",
    "    # We add the labels for each digit.\n",
    "    txts = []\n",
    "    for i in range(14):\n",
    "        # Position of each label.\n",
    "        xtext, ytext = np.median(x[labels == i, :], axis=0)\n",
    "#         print(labels)\n",
    "#         print(x[np.array(labels) == i])\n",
    "#         break\n",
    "        txt = ax.text(xtext, ytext, str(i), fontsize=24)\n",
    "        txt.set_path_effects([\n",
    "            PathEffects.Stroke(linewidth=5, foreground=\"w\"),\n",
    "            PathEffects.Normal()])\n",
    "        txts.append(txt)\n",
    "        \n",
    "    if subtitle != None:\n",
    "        plt.suptitle(subtitle)\n",
    "        \n",
    "    plt.savefig(subtitle)"
   ]
  },
  {
   "cell_type": "code",
   "execution_count": 232,
   "metadata": {},
   "outputs": [
    {
     "data": {
      "image/png": "[encoded data removed]",
      "text/plain": [
       "<Figure size 576x576 with 1 Axes>"
      ]
     },
     "metadata": {
      "needs_background": "light"
     },
     "output_type": "display_data"
    },
    {
     "data": {
      "image/png": "[encoded data removed]",
      "text/plain": [
       "<Figure size 576x576 with 1 Axes>"
      ]
     },
     "metadata": {
      "needs_background": "light"
     },
     "output_type": "display_data"
    }
   ],
   "source": [
    "tsne = TSNE()\n",
    "train_tsne_embeds = tsne.fit_transform(trainX)\n",
    "scatter(train_tsne_embeds,trainy, \"Samples from Training Data\")\n",
    "\n",
    "eval_tsne_embeds = tsne.fit_transform(testX)\n",
    "scatter(eval_tsne_embeds, testy, \"Samples from Validation Data\")"
   ]
  },
  {
   "cell_type": "code",
   "execution_count": 233,
   "metadata": {},
   "outputs": [],
   "source": [
    "def generate_triplet(x,y,testsize=0.3,ap_pairs=10,an_pairs=10):\n",
    "    data_xy = tuple([x,y])\n",
    "\n",
    "    trainsize = 1-testsize\n",
    "\n",
    "    triplet_train_pairs = []\n",
    "    triplet_test_pairs = []\n",
    "    for data_class in sorted(set(data_xy[1])):\n",
    "\n",
    "        same_class_idx = np.where((data_xy[1] == data_class))[0]\n",
    "        diff_class_idx = np.where(data_xy[1] != data_class)[0]\n",
    "        A_P_pairs = random.sample(list(permutations(same_class_idx,2)),k=ap_pairs) #Generating Anchor-Positive pairs\n",
    "        Neg_idx = random.sample(list(diff_class_idx),k=an_pairs)\n",
    "        \n",
    "\n",
    "        #train\n",
    "        A_P_len = len(A_P_pairs)\n",
    "        Neg_len = len(Neg_idx)\n",
    "        for ap in A_P_pairs[:int(A_P_len*trainsize)]:\n",
    "            Anchor = data_xy[0][ap[0]]\n",
    "            Positive = data_xy[0][ap[1]]\n",
    "            for n in Neg_idx:\n",
    "                Negative = data_xy[0][n]\n",
    "                triplet_train_pairs.append([Anchor,Positive,Negative])               \n",
    "        #test\n",
    "        for ap in A_P_pairs[int(A_P_len*trainsize):]:\n",
    "            Anchor = data_xy[0][ap[0]]\n",
    "            Positive = data_xy[0][ap[1]]\n",
    "            for n in Neg_idx:\n",
    "                Negative = data_xy[0][n]\n",
    "                triplet_test_pairs.append([Anchor,Positive,Negative])    \n",
    "                \n",
    "    return np.array(triplet_train_pairs), np.array(triplet_test_pairs)"
   ]
  },
  {
   "cell_type": "code",
   "execution_count": 234,
   "metadata": {},
   "outputs": [],
   "source": [
    "X_train, X_test = generate_triplet(trainX,trainy, ap_pairs=10, an_pairs=10,testsize=0.2)"
   ]
  },
  {
   "cell_type": "code",
   "execution_count": 235,
   "metadata": {},
   "outputs": [
    {
     "data": {
      "text/plain": [
       "(1120, 3, 128)"
      ]
     },
     "execution_count": 235,
     "metadata": {},
     "output_type": "execute_result"
    }
   ],
   "source": [
    "X_train.shape"
   ]
  },
  {
   "cell_type": "code",
   "execution_count": 236,
   "metadata": {},
   "outputs": [],
   "source": [
    "def triplet_loss(y_true, y_pred, alpha = 0.4):\n",
    "    \"\"\"\n",
    "    Implementation of the triplet loss function\n",
    "    Arguments:\n",
    "    y_true -- true labels, required when you define a loss in Keras, you don't need it in this function.\n",
    "    y_pred -- python list containing three objects:\n",
    "            anchor -- the encodings for the anchor data\n",
    "            positive -- the encodings for the positive data (similar to anchor)\n",
    "            negative -- the encodings for the negative data (different from anchor)\n",
    "    Returns:\n",
    "    loss -- real number, value of the loss\n",
    "    \"\"\"\n",
    "    print('y_pred.shape = ',y_pred)\n",
    "    \n",
    "    total_lenght = y_pred.shape.as_list()[-1]\n",
    "#     print('total_lenght=',  total_lenght)\n",
    "#     total_lenght =12\n",
    "    \n",
    "    anchor = y_pred[:,0:int(total_lenght*1/3)]\n",
    "    positive = y_pred[:,int(total_lenght*1/3):int(total_lenght*2/3)]\n",
    "    negative = y_pred[:,int(total_lenght*2/3):int(total_lenght*3/3)]\n",
    "\n",
    "    # distance between the anchor and the positive\n",
    "    pos_dist = K.sum(K.square(anchor-positive),axis=1)\n",
    "\n",
    "    # distance between the anchor and the negative\n",
    "    neg_dist = K.sum(K.square(anchor-negative),axis=1)\n",
    "\n",
    "    # compute loss\n",
    "    basic_loss = pos_dist-neg_dist+alpha\n",
    "    loss = K.maximum(basic_loss,0.0)\n",
    " \n",
    "    return loss"
   ]
  },
  {
   "cell_type": "code",
   "execution_count": 263,
   "metadata": {},
   "outputs": [],
   "source": [
    "def create_base_network(in_dims):\n",
    "    \"\"\"\n",
    "    Base network to be shared.\n",
    "    \"\"\"\n",
    "    model= Sequential()\n",
    "#     model.add(Input(shape=in_dims))\n",
    "#     model.add(Flatten(name='flatten'))\n",
    "#     model.add(Dense(64, activation=\"relu\", name=\"layer1\"))\n",
    "#     model.add(Dense(32, activation=\"relu\", name=\"layer2\"))\n",
    "    model.add(Dense(32, activation=\"softmax\", name='embeddings'))\n",
    "    # model.add(Dense(600))\n",
    "    \n",
    "    return model"
   ]
  },
  {
   "cell_type": "code",
   "execution_count": 264,
   "metadata": {},
   "outputs": [],
   "source": [
    "adam_optim = Adam(lr=0.00001, beta_1=0.9, beta_2=0.999)"
   ]
  },
  {
   "cell_type": "code",
   "execution_count": 265,
   "metadata": {},
   "outputs": [
    {
     "name": "stdout",
     "output_type": "stream",
     "text": [
      "y_pred.shape =  Tensor(\"merged_layer_22/concat:0\", shape=(None, 96), dtype=float32)\n"
     ]
    }
   ],
   "source": [
    "anchor_input = Input((128, ), name='anchor_input')\n",
    "positive_input = Input((128, ), name='positive_input')\n",
    "negative_input = Input((128, ), name='negative_input')\n",
    "\n",
    "# Shared embedding layer for positive and negative items\n",
    "Shared_DNN = create_base_network([128,])\n",
    "\n",
    "\n",
    "encoded_anchor = Shared_DNN(anchor_input)\n",
    "encoded_positive = Shared_DNN(positive_input)\n",
    "encoded_negative = Shared_DNN(negative_input)\n",
    "\n",
    "\n",
    "merged_vector = concatenate([encoded_anchor, encoded_positive, encoded_negative], axis=-1, name='merged_layer')\n",
    "\n",
    "model = Model(inputs=[anchor_input,positive_input, negative_input], outputs=merged_vector)\n",
    "model.compile(loss=triplet_loss, optimizer=adam_optim)"
   ]
  },
  {
   "cell_type": "code",
   "execution_count": 266,
   "metadata": {},
   "outputs": [
    {
     "name": "stdout",
     "output_type": "stream",
     "text": [
      "Model: \"model_37\"\n",
      "__________________________________________________________________________________________________\n",
      "Layer (type)                    Output Shape         Param #     Connected to                     \n",
      "==================================================================================================\n",
      "anchor_input (InputLayer)       (None, 128)          0                                            \n",
      "__________________________________________________________________________________________________\n",
      "positive_input (InputLayer)     (None, 128)          0                                            \n",
      "__________________________________________________________________________________________________\n",
      "negative_input (InputLayer)     (None, 128)          0                                            \n",
      "__________________________________________________________________________________________________\n",
      "sequential_23 (Sequential)      (None, 32)           4128        anchor_input[0][0]               \n",
      "                                                                 positive_input[0][0]             \n",
      "                                                                 negative_input[0][0]             \n",
      "__________________________________________________________________________________________________\n",
      "merged_layer (Concatenate)      (None, 96)           0           sequential_23[1][0]              \n",
      "                                                                 sequential_23[2][0]              \n",
      "                                                                 sequential_23[3][0]              \n",
      "==================================================================================================\n",
      "Total params: 4,128\n",
      "Trainable params: 4,128\n",
      "Non-trainable params: 0\n",
      "__________________________________________________________________________________________________\n"
     ]
    }
   ],
   "source": [
    "model.summary()"
   ]
  },
  {
   "cell_type": "code",
   "execution_count": 267,
   "metadata": {},
   "outputs": [
    {
     "name": "stdout",
     "output_type": "stream",
     "text": [
      "(280, 128)\n"
     ]
    }
   ],
   "source": [
    "Anchor = X_train[:,0,:].reshape((-1,128))\n",
    "Positive = X_train[:,1,:].reshape((-1,128))\n",
    "Negative = X_train[:,2,:].reshape((-1,128))\n",
    "Anchor_test = X_test[:,0,:].reshape((-1,128))\n",
    "Positive_test = X_test[:,1,:].reshape((-1,128))\n",
    "Negative_test = X_test[:,2,:].reshape((-1,128))\n",
    "print(Anchor_test.shape)"
   ]
  },
  {
   "cell_type": "code",
   "execution_count": 268,
   "metadata": {},
   "outputs": [
    {
     "name": "stdout",
     "output_type": "stream",
     "text": [
      "Train on 1120 samples, validate on 280 samples\n",
      "Epoch 1/50\n",
      "1120/1120 [==============================] - 0s 249us/step - loss: 0.3325 - val_loss: 0.3214\n",
      "Epoch 2/50\n",
      "1120/1120 [==============================] - 0s 169us/step - loss: 0.3253 - val_loss: 0.3158\n",
      "Epoch 3/50\n",
      "1120/1120 [==============================] - 0s 170us/step - loss: 0.3176 - val_loss: 0.3095\n",
      "Epoch 4/50\n",
      "1120/1120 [==============================] - 0s 173us/step - loss: 0.3093 - val_loss: 0.3025\n",
      "Epoch 5/50\n",
      "1120/1120 [==============================] - 0s 196us/step - loss: 0.3004 - val_loss: 0.2946\n",
      "Epoch 6/50\n",
      "1120/1120 [==============================] - 0s 184us/step - loss: 0.2909 - val_loss: 0.2857\n",
      "Epoch 7/50\n",
      "1120/1120 [==============================] - 0s 169us/step - loss: 0.2806 - val_loss: 0.2758\n",
      "Epoch 8/50\n",
      "1120/1120 [==============================] - 0s 165us/step - loss: 0.2697 - val_loss: 0.2653\n",
      "Epoch 9/50\n",
      "1120/1120 [==============================] - 0s 169us/step - loss: 0.2580 - val_loss: 0.2537\n",
      "Epoch 10/50\n",
      "1120/1120 [==============================] - 0s 167us/step - loss: 0.2453 - val_loss: 0.2415\n",
      "Epoch 11/50\n",
      "1120/1120 [==============================] - 0s 166us/step - loss: 0.2318 - val_loss: 0.2283\n",
      "Epoch 12/50\n",
      "1120/1120 [==============================] - 0s 168us/step - loss: 0.2179 - val_loss: 0.2152\n",
      "Epoch 13/50\n",
      "1120/1120 [==============================] - 0s 168us/step - loss: 0.2043 - val_loss: 0.2022\n",
      "Epoch 14/50\n",
      "1120/1120 [==============================] - 0s 168us/step - loss: 0.1913 - val_loss: 0.1892\n",
      "Epoch 15/50\n",
      "1120/1120 [==============================] - 0s 167us/step - loss: 0.1790 - val_loss: 0.1765\n",
      "Epoch 16/50\n",
      "1120/1120 [==============================] - ETA: 0s - loss: 0.168 - 0s 168us/step - loss: 0.1676 - val_loss: 0.1639\n",
      "Epoch 17/50\n",
      "1120/1120 [==============================] - 0s 175us/step - loss: 0.1569 - val_loss: 0.1523\n",
      "Epoch 18/50\n",
      "1120/1120 [==============================] - 0s 173us/step - loss: 0.1471 - val_loss: 0.1419\n",
      "Epoch 19/50\n",
      "1120/1120 [==============================] - 0s 167us/step - loss: 0.1380 - val_loss: 0.1323\n",
      "Epoch 20/50\n",
      "1120/1120 [==============================] - 0s 168us/step - loss: 0.1294 - val_loss: 0.1239\n",
      "Epoch 21/50\n",
      "1120/1120 [==============================] - 0s 170us/step - loss: 0.1213 - val_loss: 0.1159\n",
      "Epoch 22/50\n",
      "1120/1120 [==============================] - 0s 170us/step - loss: 0.1139 - val_loss: 0.1083\n",
      "Epoch 23/50\n",
      "1120/1120 [==============================] - 0s 170us/step - loss: 0.1070 - val_loss: 0.1009\n",
      "Epoch 24/50\n",
      "1120/1120 [==============================] - 0s 168us/step - loss: 0.1006 - val_loss: 0.0935\n",
      "Epoch 25/50\n",
      "1120/1120 [==============================] - 0s 185us/step - loss: 0.0944 - val_loss: 0.0859\n",
      "Epoch 26/50\n",
      "1120/1120 [==============================] - 0s 170us/step - loss: 0.0884 - val_loss: 0.0789\n",
      "Epoch 27/50\n",
      "1120/1120 [==============================] - 0s 171us/step - loss: 0.0828 - val_loss: 0.0723\n",
      "Epoch 28/50\n",
      "1120/1120 [==============================] - 0s 172us/step - loss: 0.0775 - val_loss: 0.0666\n",
      "Epoch 29/50\n",
      "1120/1120 [==============================] - 0s 170us/step - loss: 0.0727 - val_loss: 0.0614\n",
      "Epoch 30/50\n",
      "1120/1120 [==============================] - 0s 174us/step - loss: 0.0681 - val_loss: 0.0563\n",
      "Epoch 31/50\n",
      "1120/1120 [==============================] - 0s 170us/step - loss: 0.0639 - val_loss: 0.0522\n",
      "Epoch 32/50\n",
      "1120/1120 [==============================] - 0s 168us/step - loss: 0.0600 - val_loss: 0.0485\n",
      "Epoch 33/50\n",
      "1120/1120 [==============================] - 0s 171us/step - loss: 0.0564 - val_loss: 0.0453\n",
      "Epoch 34/50\n",
      "1120/1120 [==============================] - 0s 168us/step - loss: 0.0531 - val_loss: 0.0423\n",
      "Epoch 35/50\n",
      "1120/1120 [==============================] - 0s 169us/step - loss: 0.0501 - val_loss: 0.0397\n",
      "Epoch 36/50\n",
      "1120/1120 [==============================] - 0s 171us/step - loss: 0.0472 - val_loss: 0.0372\n",
      "Epoch 37/50\n",
      "1120/1120 [==============================] - 0s 168us/step - loss: 0.0445 - val_loss: 0.0347\n",
      "Epoch 38/50\n",
      "1120/1120 [==============================] - 0s 170us/step - loss: 0.0419 - val_loss: 0.0326\n",
      "Epoch 39/50\n",
      "1120/1120 [==============================] - 0s 170us/step - loss: 0.0394 - val_loss: 0.0306\n",
      "Epoch 40/50\n",
      "1120/1120 [==============================] - 0s 168us/step - loss: 0.0371 - val_loss: 0.0288\n",
      "Epoch 41/50\n",
      "1120/1120 [==============================] - 0s 170us/step - loss: 0.0349 - val_loss: 0.0271\n",
      "Epoch 42/50\n",
      "1120/1120 [==============================] - 0s 167us/step - loss: 0.0329 - val_loss: 0.0255\n",
      "Epoch 43/50\n",
      "1120/1120 [==============================] - 0s 166us/step - loss: 0.0310 - val_loss: 0.0241\n",
      "Epoch 44/50\n",
      "1120/1120 [==============================] - 0s 172us/step - loss: 0.0292 - val_loss: 0.0227\n",
      "Epoch 45/50\n",
      "1120/1120 [==============================] - 0s 169us/step - loss: 0.0276 - val_loss: 0.0214\n",
      "Epoch 46/50\n",
      "1120/1120 [==============================] - 0s 181us/step - loss: 0.0259 - val_loss: 0.0204\n",
      "Epoch 47/50\n",
      "1120/1120 [==============================] - 0s 171us/step - loss: 0.0245 - val_loss: 0.0194\n",
      "Epoch 48/50\n",
      "1120/1120 [==============================] - 0s 170us/step - loss: 0.0231 - val_loss: 0.0185\n",
      "Epoch 49/50\n",
      "1120/1120 [==============================] - 0s 168us/step - loss: 0.0219 - val_loss: 0.0177\n",
      "Epoch 50/50\n",
      "1120/1120 [==============================] - 0s 167us/step - loss: 0.0208 - val_loss: 0.0170\n"
     ]
    },
    {
     "data": {
      "text/plain": [
       "<keras.callbacks.callbacks.History at 0x237350d2b88>"
      ]
     },
     "execution_count": 268,
     "metadata": {},
     "output_type": "execute_result"
    }
   ],
   "source": [
    "Y_dummy = np.empty((Anchor.shape[0],300))\n",
    "Y_dummy2 = np.empty((Anchor_test.shape[0],1))\n",
    "model.fit([Anchor,Positive,Negative],y=Y_dummy,validation_data=([Anchor_test,Positive_test,Negative_test],Y_dummy2), batch_size=5, epochs=50)"
   ]
  },
  {
   "cell_type": "code",
   "execution_count": 269,
   "metadata": {},
   "outputs": [],
   "source": [
    "trained_model = Model(inputs=anchor_input, outputs=encoded_anchor)"
   ]
  },
  {
   "cell_type": "code",
   "execution_count": 270,
   "metadata": {},
   "outputs": [
    {
     "name": "stdout",
     "output_type": "stream",
     "text": [
      "Model: \"model_38\"\n",
      "_________________________________________________________________\n",
      "Layer (type)                 Output Shape              Param #   \n",
      "=================================================================\n",
      "anchor_input (InputLayer)    (None, 128)               0         \n",
      "_________________________________________________________________\n",
      "sequential_23 (Sequential)   (None, 32)                4128      \n",
      "=================================================================\n",
      "Total params: 4,128\n",
      "Trainable params: 4,128\n",
      "Non-trainable params: 0\n",
      "_________________________________________________________________\n"
     ]
    }
   ],
   "source": [
    "trained_model.summary()"
   ]
  },
  {
   "cell_type": "code",
   "execution_count": 271,
   "metadata": {},
   "outputs": [],
   "source": [
    "tsne = TSNE()\n",
    "X_train_trm = trained_model.predict(trainX)\n",
    "X_test_trm = trained_model.predict(testX)\n",
    "train_tsne_embeds = tsne.fit_transform(X_train_trm)\n",
    "eval_tsne_embeds = tsne.fit_transform(X_test_trm)"
   ]
  },
  {
   "cell_type": "code",
   "execution_count": 272,
   "metadata": {},
   "outputs": [
    {
     "data": {
      "image/png": "[encoded data removed]",
      "text/plain": [
       "<Figure size 576x576 with 1 Axes>"
      ]
     },
     "metadata": {
      "needs_background": "light"
     },
     "output_type": "display_data"
    }
   ],
   "source": [
    "scatter(train_tsne_embeds, trainy, \"Training Data After TNN\")"
   ]
  },
  {
   "cell_type": "code",
   "execution_count": 273,
   "metadata": {},
   "outputs": [
    {
     "data": {
      "image/png": "[encoded data removed]",
      "text/plain": [
       "<Figure size 576x576 with 1 Axes>"
      ]
     },
     "metadata": {
      "needs_background": "light"
     },
     "output_type": "display_data"
    }
   ],
   "source": [
    "scatter(eval_tsne_embeds, testy, \"Validation Data After TNN\")"
   ]
  },
  {
   "cell_type": "code",
   "execution_count": 274,
   "metadata": {},
   "outputs": [
    {
     "data": {
      "text/plain": [
       "[<tf.Variable 'sequential_23/embeddings/kernel:0' shape=(128, 32) dtype=float32, numpy=\n",
       " array([[-0.14248402, -0.08263049, -0.11905068, ..., -0.17668237,\n",
       "         -0.11191001,  0.00972924],\n",
       "        [-0.01377694, -0.17091492,  0.02839626, ..., -0.19818524,\n",
       "         -0.1994733 , -0.08474538],\n",
       "        [-0.14281482,  0.20522909, -0.07215367, ...,  0.12003712,\n",
       "         -0.18651   ,  0.18457374],\n",
       "        ...,\n",
       "        [-0.01105389,  0.04598062, -0.02172025, ...,  0.03538995,\n",
       "          0.04912625, -0.05129797],\n",
       "        [ 0.05167175,  0.00740717, -0.06148607, ..., -0.15779307,\n",
       "         -0.06022485,  0.18801631],\n",
       "        [ 0.12205248, -0.14673653, -0.10525499, ..., -0.16361356,\n",
       "         -0.06323584, -0.04684622]], dtype=float32)>,\n",
       " <tf.Variable 'sequential_23/embeddings/bias:0' shape=(32,) dtype=float32, numpy=\n",
       " array([ 0.02284076, -0.05803113, -0.04458868,  0.01170626,  0.02783893,\n",
       "         0.00265429, -0.07015231,  0.03101889, -0.07425024, -0.0080344 ,\n",
       "         0.01744328,  0.01915003, -0.00726381,  0.01039678,  0.02071775,\n",
       "        -0.0665517 , -0.06004455, -0.00010042, -0.03901789,  0.02111225,\n",
       "        -0.06772877, -0.04946081, -0.04872058, -0.06229416, -0.04819452,\n",
       "        -0.04285312, -0.05600778,  0.01615971,  0.00462433, -0.00483776,\n",
       "        -0.01630626, -0.05494383], dtype=float32)>]"
      ]
     },
     "execution_count": 274,
     "metadata": {},
     "output_type": "execute_result"
    }
   ],
   "source": [
    "model.weights"
   ]
  },
  {
   "cell_type": "code",
   "execution_count": 281,
   "metadata": {},
   "outputs": [
    {
     "name": "stdout",
     "output_type": "stream",
     "text": [
      "0.7501013\n",
      "0.810335\n",
      "0.42710593\n",
      "0.5712303\n",
      "0.9166419\n",
      "0.8051598\n",
      "0.9241291\n",
      "0.87136424\n",
      "0.64567715\n",
      "0.71095747\n",
      "0.9212915\n",
      "0.5880439\n",
      "0.5023133\n",
      "0.54576856\n",
      "0.41069072\n",
      "0.66608506\n",
      "0.5850044\n",
      "0.47756335\n",
      "0.47122896\n",
      "0.55216557\n",
      "0.4041525\n",
      "0.6187141\n",
      "0.53596663\n",
      "0.5605806\n",
      "0.6285462\n",
      "0.58614063\n",
      "0.8543997\n",
      "0.41325822\n",
      "0.8762085\n",
      "0.9677575\n",
      "0.8736162\n",
      "0.6579828\n",
      "0.6016613\n",
      "0.6314981\n",
      "0.51663905\n",
      "0.0\n",
      "0.210786\n",
      "0.2055679\n",
      "0.2535737\n",
      "0.2262679\n",
      "0.5647509\n",
      "0.76262903\n",
      "0.7869498\n",
      "0.46795908\n",
      "0.37933284\n",
      "0.90514684\n",
      "0.5294948\n",
      "0.8087006\n",
      "0.48260757\n",
      "0.9562299\n",
      "0.98445237\n",
      "0.92960995\n",
      "0.9209996\n",
      "0.88062614\n",
      "0.53546745\n",
      "0.66472566\n",
      "0.49562815\n",
      "0.3903984\n",
      "0.49918658\n",
      "0.7448729\n",
      "0.45927402\n",
      "0.67554975\n",
      "0.4748721\n",
      "0.510582\n",
      "0.5092221\n",
      "0.8049369\n",
      "0.6737674\n",
      "0.6775053\n",
      "0.4600113\n",
      "0.6663481\n"
     ]
    }
   ],
   "source": [
    "e = np.expand_dims(testX[35],axis = 0)\n",
    "e = trained_model.predict(e)\n",
    "# e1 = np.expand_dims(testX[i],axis = 0)\n",
    "# e1 = trained_model.predict(e1)\n",
    "# print(e.shape)\n",
    "# mul = np.matmul(e,np.transpose(e1))\n",
    "# print(mul)\n",
    "# print(np.cos(mul))\n",
    "# print(np.linalg.norm(mul))\n",
    "#0.4\n",
    "for i in range(70):\n",
    "    e1 = np.expand_dims(testX[i],axis = 0)\n",
    "    e1 = trained_model.predict(e1)\n",
    "    print(np.linalg.norm(e-e1))"
   ]
  },
  {
   "cell_type": "code",
   "execution_count": 256,
   "metadata": {},
   "outputs": [
    {
     "data": {
      "text/plain": [
       "12.88951"
      ]
     },
     "execution_count": 256,
     "metadata": {},
     "output_type": "execute_result"
    }
   ],
   "source": [
    "np.linalg.norm(e-e1)"
   ]
  },
  {
   "cell_type": "code",
   "execution_count": 126,
   "metadata": {},
   "outputs": [],
   "source": [
    "# trained_model.save('trained_model.h5')"
   ]
  },
  {
   "cell_type": "code",
   "execution_count": 27,
   "metadata": {},
   "outputs": [
    {
     "ename": "ValueError",
     "evalue": "Error when checking target: expected dense_2 to have shape (15,) but got array with shape (1,)",
     "output_type": "error",
     "traceback": [
      "\u001b[1;31m---------------------------------------------------------------------------\u001b[0m",
      "\u001b[1;31mValueError\u001b[0m                                Traceback (most recent call last)",
      "\u001b[1;32m<ipython-input-27-cf9fd556551d>\u001b[0m in \u001b[0;36m<module>\u001b[1;34m\u001b[0m\n\u001b[0;32m      9\u001b[0m \u001b[0mClassifier_model\u001b[0m\u001b[1;33m.\u001b[0m\u001b[0mcompile\u001b[0m\u001b[1;33m(\u001b[0m\u001b[0moptimizer\u001b[0m\u001b[1;33m=\u001b[0m\u001b[1;34m'adam'\u001b[0m\u001b[1;33m,\u001b[0m\u001b[0mloss\u001b[0m\u001b[1;33m=\u001b[0m\u001b[1;34m'categorical_crossentropy'\u001b[0m\u001b[1;33m,\u001b[0m\u001b[0mmetrics\u001b[0m\u001b[1;33m=\u001b[0m\u001b[1;33m[\u001b[0m\u001b[1;34m'accuracy'\u001b[0m\u001b[1;33m]\u001b[0m\u001b[1;33m)\u001b[0m\u001b[1;33m\u001b[0m\u001b[1;33m\u001b[0m\u001b[0m\n\u001b[0;32m     10\u001b[0m \u001b[1;33m\u001b[0m\u001b[0m\n\u001b[1;32m---> 11\u001b[1;33m \u001b[0mClassifier_model\u001b[0m\u001b[1;33m.\u001b[0m\u001b[0mfit\u001b[0m\u001b[1;33m(\u001b[0m\u001b[0mX_train_trm\u001b[0m\u001b[1;33m,\u001b[0m\u001b[0mtrainy\u001b[0m\u001b[1;33m,\u001b[0m \u001b[0mvalidation_data\u001b[0m\u001b[1;33m=\u001b[0m\u001b[1;33m(\u001b[0m\u001b[0mX_test_trm\u001b[0m\u001b[1;33m,\u001b[0m\u001b[0mtesty\u001b[0m\u001b[1;33m)\u001b[0m\u001b[1;33m,\u001b[0m\u001b[0mepochs\u001b[0m\u001b[1;33m=\u001b[0m\u001b[1;36m10\u001b[0m\u001b[1;33m)\u001b[0m\u001b[1;33m\u001b[0m\u001b[1;33m\u001b[0m\u001b[0m\n\u001b[0m",
      "\u001b[1;32m~\\.conda\\envs\\gputest\\lib\\site-packages\\keras\\engine\\training.py\u001b[0m in \u001b[0;36mfit\u001b[1;34m(self, x, y, batch_size, epochs, verbose, callbacks, validation_split, validation_data, shuffle, class_weight, sample_weight, initial_epoch, steps_per_epoch, validation_steps, validation_freq, max_queue_size, workers, use_multiprocessing, **kwargs)\u001b[0m\n\u001b[0;32m   1152\u001b[0m             \u001b[0msample_weight\u001b[0m\u001b[1;33m=\u001b[0m\u001b[0msample_weight\u001b[0m\u001b[1;33m,\u001b[0m\u001b[1;33m\u001b[0m\u001b[1;33m\u001b[0m\u001b[0m\n\u001b[0;32m   1153\u001b[0m             \u001b[0mclass_weight\u001b[0m\u001b[1;33m=\u001b[0m\u001b[0mclass_weight\u001b[0m\u001b[1;33m,\u001b[0m\u001b[1;33m\u001b[0m\u001b[1;33m\u001b[0m\u001b[0m\n\u001b[1;32m-> 1154\u001b[1;33m             batch_size=batch_size)\n\u001b[0m\u001b[0;32m   1155\u001b[0m \u001b[1;33m\u001b[0m\u001b[0m\n\u001b[0;32m   1156\u001b[0m         \u001b[1;31m# Prepare validation data.\u001b[0m\u001b[1;33m\u001b[0m\u001b[1;33m\u001b[0m\u001b[1;33m\u001b[0m\u001b[0m\n",
      "\u001b[1;32m~\\.conda\\envs\\gputest\\lib\\site-packages\\keras\\engine\\training.py\u001b[0m in \u001b[0;36m_standardize_user_data\u001b[1;34m(self, x, y, sample_weight, class_weight, check_array_lengths, batch_size)\u001b[0m\n\u001b[0;32m    619\u001b[0m                 \u001b[0mfeed_output_shapes\u001b[0m\u001b[1;33m,\u001b[0m\u001b[1;33m\u001b[0m\u001b[1;33m\u001b[0m\u001b[0m\n\u001b[0;32m    620\u001b[0m                 \u001b[0mcheck_batch_axis\u001b[0m\u001b[1;33m=\u001b[0m\u001b[1;32mFalse\u001b[0m\u001b[1;33m,\u001b[0m  \u001b[1;31m# Don't enforce the batch size.\u001b[0m\u001b[1;33m\u001b[0m\u001b[1;33m\u001b[0m\u001b[0m\n\u001b[1;32m--> 621\u001b[1;33m                 exception_prefix='target')\n\u001b[0m\u001b[0;32m    622\u001b[0m \u001b[1;33m\u001b[0m\u001b[0m\n\u001b[0;32m    623\u001b[0m             \u001b[1;31m# Generate sample-wise weight values given the `sample_weight` and\u001b[0m\u001b[1;33m\u001b[0m\u001b[1;33m\u001b[0m\u001b[1;33m\u001b[0m\u001b[0m\n",
      "\u001b[1;32m~\\.conda\\envs\\gputest\\lib\\site-packages\\keras\\engine\\training_utils.py\u001b[0m in \u001b[0;36mstandardize_input_data\u001b[1;34m(data, names, shapes, check_batch_axis, exception_prefix)\u001b[0m\n\u001b[0;32m    143\u001b[0m                             \u001b[1;34m': expected '\u001b[0m \u001b[1;33m+\u001b[0m \u001b[0mnames\u001b[0m\u001b[1;33m[\u001b[0m\u001b[0mi\u001b[0m\u001b[1;33m]\u001b[0m \u001b[1;33m+\u001b[0m \u001b[1;34m' to have shape '\u001b[0m \u001b[1;33m+\u001b[0m\u001b[1;33m\u001b[0m\u001b[1;33m\u001b[0m\u001b[0m\n\u001b[0;32m    144\u001b[0m                             \u001b[0mstr\u001b[0m\u001b[1;33m(\u001b[0m\u001b[0mshape\u001b[0m\u001b[1;33m)\u001b[0m \u001b[1;33m+\u001b[0m \u001b[1;34m' but got array with shape '\u001b[0m \u001b[1;33m+\u001b[0m\u001b[1;33m\u001b[0m\u001b[1;33m\u001b[0m\u001b[0m\n\u001b[1;32m--> 145\u001b[1;33m                             str(data_shape))\n\u001b[0m\u001b[0;32m    146\u001b[0m     \u001b[1;32mreturn\u001b[0m \u001b[0mdata\u001b[0m\u001b[1;33m\u001b[0m\u001b[1;33m\u001b[0m\u001b[0m\n\u001b[0;32m    147\u001b[0m \u001b[1;33m\u001b[0m\u001b[0m\n",
      "\u001b[1;31mValueError\u001b[0m: Error when checking target: expected dense_2 to have shape (15,) but got array with shape (1,)"
     ]
    }
   ],
   "source": [
    "X_train_trm = trained_model.predict(trainX)\n",
    "X_test_trm = trained_model.predict(testX)\n",
    "\n",
    "Classifier_input = Input((16,))\n",
    "Classifier_output = Dense(15, activation='softmax')(Classifier_input)\n",
    "Classifier_model = Model(Classifier_input, Classifier_output)\n",
    "\n",
    "\n",
    "Classifier_model.compile(optimizer='adam',loss='categorical_crossentropy',metrics=['accuracy'])\n",
    "\n",
    "Classifier_model.fit(X_train_trm,trainy, validation_data=(X_test_trm,testy),epochs=10)\n"
   ]
  },
  {
   "cell_type": "code",
   "execution_count": 280,
   "metadata": {},
   "outputs": [],
   "source": [
    "trained_model.save('soft_train.h5')"
   ]
  },
  {
   "cell_type": "code",
   "execution_count": null,
   "metadata": {},
   "outputs": [],
   "source": []
  }
 ],
 "metadata": {
  "kernelspec": {
   "display_name": "gputest",
   "language": "python",
   "name": "gputest"
  },
  "language_info": {
   "codemirror_mode": {
    "name": "ipython",
    "version": 3
   },
   "file_extension": ".py",
   "mimetype": "text/x-python",
   "name": "python",
   "nbconvert_exporter": "python",
   "pygments_lexer": "ipython3",
   "version": "3.7.7"
  }
 },
 "nbformat": 4,
 "nbformat_minor": 2
}
